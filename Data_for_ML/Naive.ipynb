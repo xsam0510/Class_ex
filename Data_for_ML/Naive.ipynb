{
 "cells": [
  {
   "cell_type": "code",
   "execution_count": 1,
   "id": "3ff19b97",
   "metadata": {},
   "outputs": [],
   "source": [
    "import numpy as np\n",
    "import pandas as pd\n",
    "from sklearn.naive_bayes import MultinomialNB\n",
    "from sklearn.preprocessing import LabelEncoder\n",
    "from sklearn.metrics import accuracy_score\n",
    "from sklearn.metrics import r2_score, mean_squared_error"
   ]
  },
  {
   "cell_type": "code",
   "execution_count": 2,
   "id": "3c74cdc2",
   "metadata": {},
   "outputs": [],
   "source": [
    "train = pd.read_csv('https://github.com/xsam0510/Class_ex/blob/main/Data_for_ML/train2.csv?raw=True')\n",
    "val = pd.read_csv('https://github.com/xsam0510/Class_ex/blob/main/Data_for_ML/val2.csv?raw=True')"
   ]
  },
  {
   "cell_type": "code",
   "execution_count": 3,
   "id": "879a6464",
   "metadata": {},
   "outputs": [
    {
     "name": "stdout",
     "output_type": "stream",
     "text": [
      "Accuracy: 0.6666666666666666\n"
     ]
    }
   ],
   "source": [
    "# Encode the target variable\n",
    "le = LabelEncoder()\n",
    "train['group'] = le.fit_transform(train['group'])\n",
    "val['group'] = le.transform(val['group'])\n",
    "\n",
    "# Split the data into features and target\n",
    "X_train, y_train = train.drop('group', axis=1), train['group']\n",
    "X_val, y_val = val.drop('group', axis=1), val['group']\n",
    "\n",
    "# Create a Naive Bayes model and fit it to the training data\n",
    "nb = MultinomialNB()\n",
    "nb.fit(X_train, y_train)\n",
    "\n",
    "# Make predictions on the validation data\n",
    "y_pred = nb.predict(X_val)\n",
    "\n",
    "# Calculate the accuracy of the model\n",
    "accuracy = accuracy_score(y_val, y_pred)\n",
    "print(\"Accuracy:\", accuracy)\n"
   ]
  },
  {
   "cell_type": "code",
   "execution_count": 4,
   "id": "bf21c08f",
   "metadata": {},
   "outputs": [
    {
     "name": "stdout",
     "output_type": "stream",
     "text": [
      "R2 score: 0.1706484641638224\n",
      "MSE: 0.75\n"
     ]
    }
   ],
   "source": [
    "# Calculate R2\n",
    "r2 = r2_score(y_val, y_pred)\n",
    "print(\"R2 score:\", r2)\n",
    "\n",
    "# Calculate MSE\n",
    "mse = mean_squared_error(y_val, y_pred)\n",
    "print(\"MSE:\", mse)"
   ]
  },
  {
   "cell_type": "code",
   "execution_count": null,
   "id": "31c25473",
   "metadata": {},
   "outputs": [],
   "source": []
  }
 ],
 "metadata": {
  "kernelspec": {
   "display_name": "Python 3 (ipykernel)",
   "language": "python",
   "name": "python3"
  },
  "language_info": {
   "codemirror_mode": {
    "name": "ipython",
    "version": 3
   },
   "file_extension": ".py",
   "mimetype": "text/x-python",
   "name": "python",
   "nbconvert_exporter": "python",
   "pygments_lexer": "ipython3",
   "version": "3.10.9"
  }
 },
 "nbformat": 4,
 "nbformat_minor": 5
}
